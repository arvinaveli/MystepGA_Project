{
 "cells": [
  {
   "cell_type": "markdown",
   "metadata": {},
   "source": [
    "# Project Name : Bank Churners\n",
    "### Importing necessary libraries"
   ]
  },
  {
   "cell_type": "code",
   "execution_count": 1,
   "metadata": {},
   "outputs": [],
   "source": [
    "import pandas as pd #allows importing data from various file formats such as comma-separated values, JSON, SQL, Microsoft Excel.\n",
    "import matplotlib.pyplot as plt #To plot the data"
   ]
  },
  {
   "cell_type": "markdown",
   "metadata": {},
   "source": [
    "### Reading BankChurners.csv file as bank_churners from the Data folder"
   ]
  },
  {
   "cell_type": "code",
   "execution_count": 2,
   "metadata": {},
   "outputs": [],
   "source": [
    "bank_churners= pd.read_csv('../Data/BankChurners.csv')"
   ]
  },
  {
   "cell_type": "markdown",
   "metadata": {},
   "source": [
    "### Printing out first five rows from the file that we readed above"
   ]
  },
  {
   "cell_type": "code",
   "execution_count": 3,
   "metadata": {},
   "outputs": [
    {
     "data": {
      "text/html": [
       "<div>\n",
       "<style scoped>\n",
       "    .dataframe tbody tr th:only-of-type {\n",
       "        vertical-align: middle;\n",
       "    }\n",
       "\n",
       "    .dataframe tbody tr th {\n",
       "        vertical-align: top;\n",
       "    }\n",
       "\n",
       "    .dataframe thead th {\n",
       "        text-align: right;\n",
       "    }\n",
       "</style>\n",
       "<table border=\"1\" class=\"dataframe\">\n",
       "  <thead>\n",
       "    <tr style=\"text-align: right;\">\n",
       "      <th></th>\n",
       "      <th>CLIENT_NUM</th>\n",
       "      <th>Attrition_Flag</th>\n",
       "      <th>Customer_Age</th>\n",
       "      <th>Gender</th>\n",
       "      <th>Dependent_count</th>\n",
       "      <th>Education_Level</th>\n",
       "      <th>Marital_Status</th>\n",
       "      <th>Income_Category</th>\n",
       "      <th>Card_Category</th>\n",
       "      <th>Months_on_book</th>\n",
       "      <th>Total_Relationship_Count</th>\n",
       "      <th>Months_Inactive_12_months</th>\n",
       "      <th>Credit_Limit</th>\n",
       "      <th>Total_Revolving_Bal</th>\n",
       "      <th>Total_Trans_Amt</th>\n",
       "    </tr>\n",
       "  </thead>\n",
       "  <tbody>\n",
       "    <tr>\n",
       "      <th>0</th>\n",
       "      <td>768805383</td>\n",
       "      <td>Existing Customer</td>\n",
       "      <td>45</td>\n",
       "      <td>M</td>\n",
       "      <td>3</td>\n",
       "      <td>High School</td>\n",
       "      <td>Married</td>\n",
       "      <td>$60K - $80K</td>\n",
       "      <td>Blue</td>\n",
       "      <td>39</td>\n",
       "      <td>5</td>\n",
       "      <td>1</td>\n",
       "      <td>12691.0</td>\n",
       "      <td>777</td>\n",
       "      <td>1144</td>\n",
       "    </tr>\n",
       "    <tr>\n",
       "      <th>1</th>\n",
       "      <td>818770008</td>\n",
       "      <td>Existing Customer</td>\n",
       "      <td>49</td>\n",
       "      <td>F</td>\n",
       "      <td>5</td>\n",
       "      <td>Graduate</td>\n",
       "      <td>Single</td>\n",
       "      <td>Less than $40K</td>\n",
       "      <td>Blue</td>\n",
       "      <td>44</td>\n",
       "      <td>6</td>\n",
       "      <td>1</td>\n",
       "      <td>8256.0</td>\n",
       "      <td>864</td>\n",
       "      <td>1291</td>\n",
       "    </tr>\n",
       "    <tr>\n",
       "      <th>2</th>\n",
       "      <td>713982108</td>\n",
       "      <td>Existing Customer</td>\n",
       "      <td>51</td>\n",
       "      <td>M</td>\n",
       "      <td>3</td>\n",
       "      <td>Graduate</td>\n",
       "      <td>Married</td>\n",
       "      <td>$80K - $120K</td>\n",
       "      <td>Blue</td>\n",
       "      <td>36</td>\n",
       "      <td>4</td>\n",
       "      <td>1</td>\n",
       "      <td>3418.0</td>\n",
       "      <td>0</td>\n",
       "      <td>1887</td>\n",
       "    </tr>\n",
       "    <tr>\n",
       "      <th>3</th>\n",
       "      <td>769911858</td>\n",
       "      <td>Existing Customer</td>\n",
       "      <td>40</td>\n",
       "      <td>F</td>\n",
       "      <td>4</td>\n",
       "      <td>High School</td>\n",
       "      <td>Unknown</td>\n",
       "      <td>Less than $40K</td>\n",
       "      <td>Blue</td>\n",
       "      <td>34</td>\n",
       "      <td>3</td>\n",
       "      <td>4</td>\n",
       "      <td>3313.0</td>\n",
       "      <td>2517</td>\n",
       "      <td>1171</td>\n",
       "    </tr>\n",
       "    <tr>\n",
       "      <th>4</th>\n",
       "      <td>709106358</td>\n",
       "      <td>Existing Customer</td>\n",
       "      <td>40</td>\n",
       "      <td>M</td>\n",
       "      <td>3</td>\n",
       "      <td>Uneducated</td>\n",
       "      <td>Married</td>\n",
       "      <td>$60K - $80K</td>\n",
       "      <td>Blue</td>\n",
       "      <td>21</td>\n",
       "      <td>5</td>\n",
       "      <td>1</td>\n",
       "      <td>4716.0</td>\n",
       "      <td>0</td>\n",
       "      <td>816</td>\n",
       "    </tr>\n",
       "  </tbody>\n",
       "</table>\n",
       "</div>"
      ],
      "text/plain": [
       "   CLIENT_NUM     Attrition_Flag  Customer_Age Gender  Dependent_count  \\\n",
       "0   768805383  Existing Customer            45      M                3   \n",
       "1   818770008  Existing Customer            49      F                5   \n",
       "2   713982108  Existing Customer            51      M                3   \n",
       "3   769911858  Existing Customer            40      F                4   \n",
       "4   709106358  Existing Customer            40      M                3   \n",
       "\n",
       "  Education_Level Marital_Status Income_Category Card_Category  \\\n",
       "0     High School        Married     $60K - $80K          Blue   \n",
       "1        Graduate         Single  Less than $40K          Blue   \n",
       "2        Graduate        Married    $80K - $120K          Blue   \n",
       "3     High School        Unknown  Less than $40K          Blue   \n",
       "4      Uneducated        Married     $60K - $80K          Blue   \n",
       "\n",
       "   Months_on_book  Total_Relationship_Count  Months_Inactive_12_months  \\\n",
       "0              39                         5                          1   \n",
       "1              44                         6                          1   \n",
       "2              36                         4                          1   \n",
       "3              34                         3                          4   \n",
       "4              21                         5                          1   \n",
       "\n",
       "   Credit_Limit  Total_Revolving_Bal  Total_Trans_Amt  \n",
       "0       12691.0                  777             1144  \n",
       "1        8256.0                  864             1291  \n",
       "2        3418.0                    0             1887  \n",
       "3        3313.0                 2517             1171  \n",
       "4        4716.0                    0              816  "
      ]
     },
     "execution_count": 3,
     "metadata": {},
     "output_type": "execute_result"
    }
   ],
   "source": [
    "bank_churners.head(5)"
   ]
  },
  {
   "cell_type": "markdown",
   "metadata": {},
   "source": [
    "### The datasheet contains 2000 rows and 15 columns"
   ]
  },
  {
   "cell_type": "code",
   "execution_count": 4,
   "metadata": {},
   "outputs": [
    {
     "data": {
      "text/plain": [
       "(2000, 15)"
      ]
     },
     "execution_count": 4,
     "metadata": {},
     "output_type": "execute_result"
    }
   ],
   "source": [
    "bank_churners.shape"
   ]
  },
  {
   "cell_type": "markdown",
   "metadata": {},
   "source": [
    "### Columns of the datasheet"
   ]
  },
  {
   "cell_type": "code",
   "execution_count": 5,
   "metadata": {},
   "outputs": [
    {
     "data": {
      "text/plain": [
       "Index(['CLIENT_NUM', 'Attrition_Flag', 'Customer_Age', 'Gender',\n",
       "       'Dependent_count', 'Education_Level', 'Marital_Status',\n",
       "       'Income_Category', 'Card_Category', 'Months_on_book',\n",
       "       'Total_Relationship_Count', 'Months_Inactive_12_months', 'Credit_Limit',\n",
       "       'Total_Revolving_Bal', 'Total_Trans_Amt'],\n",
       "      dtype='object')"
      ]
     },
     "execution_count": 5,
     "metadata": {},
     "output_type": "execute_result"
    }
   ],
   "source": [
    "bank_churners.columns"
   ]
  },
  {
   "cell_type": "markdown",
   "metadata": {},
   "source": [
    "### Creating Methods in Object (details_of_each_column) for the columns."
   ]
  },
  {
   "cell_type": "code",
   "execution_count": 6,
   "metadata": {},
   "outputs": [
    {
     "name": "stdout",
     "output_type": "stream",
     "text": [
      "There are total 2 attrition flag of customers. \n",
      "\n",
      "Existing Customer    1830\n",
      "Attrited Customer     170\n",
      "Name: Attrition_Flag, dtype: int64 \n",
      "\n"
     ]
    }
   ],
   "source": [
    "print(\"There are total\",bank_churners['Attrition_Flag'].nunique(),\"attrition flag of customers.\",\"\\n\") # using nunique() funtion to return number of unique elements\n",
    "print(bank_churners.Attrition_Flag.value_counts(),\"\\n\") # using value_counts() function to get a Series containing counts of unique values"
   ]
  },
  {
   "cell_type": "code",
   "execution_count": 7,
   "metadata": {},
   "outputs": [
    {
     "name": "stdout",
     "output_type": "stream",
     "text": [
      "count     2000.000000\n",
      "mean      9149.488950\n",
      "std       8871.524952\n",
      "min       1438.300000\n",
      "25%       2923.500000\n",
      "50%       5454.000000\n",
      "75%      12160.000000\n",
      "max      34516.000000\n",
      "Name: Credit_Limit, dtype: float64 \n",
      "\n",
      "There are 1393 clients with less than 10,000 credit limit.\n",
      "There are 349 clients within (10,000 - 20,000) credit limit.\n",
      "There are 137 clients within (20,000 - 30,000) credit limit.\n",
      "There are 121 clients with more than 30,000 credit limit.\n"
     ]
    }
   ],
   "source": [
    "print(bank_churners.Credit_Limit.describe(),\"\\n\") # using describe function, finding min and max value, and creating range\n",
    "print(\"There are\",(bank_churners.Credit_Limit < 10000.00).value_counts()[1], \"clients with less than 10,000 credit limit.\")\n",
    "print(\"There are\",((bank_churners.Credit_Limit > 10000.00) & (bank_churners.Credit_Limit < 20000.00)).value_counts()[1], \"clients within (10,000 - 20,000) credit limit.\")\n",
    "print(\"There are\",((bank_churners.Credit_Limit > 20000.00) & (bank_churners.Credit_Limit < 30000.00)).value_counts()[1], \"clients within (20,000 - 30,000) credit limit.\")\n",
    "print(\"There are\",(bank_churners.Credit_Limit > 30000.00).value_counts()[1], \"clients with more than 30,000 credit limit.\")"
   ]
  },
  {
   "cell_type": "markdown",
   "metadata": {},
   "source": [
    "###### Repeating the same steps above for the columns and  created methods in object."
   ]
  },
  {
   "cell_type": "code",
   "execution_count": 8,
   "metadata": {},
   "outputs": [],
   "source": [
    "class details_of_each_column: # except column CLIENT_NUM\n",
    "    \n",
    "    def Attrition_Flag():\n",
    "        print(\"There are total\",bank_churners['Attrition_Flag'].nunique(),\"attrition flag of customers.\",\"\\n\")\n",
    "        print(bank_churners.Attrition_Flag.value_counts(),\"\\n\")\n",
    "        \n",
    "    def Customer_Age():\n",
    "        print(bank_churners.Customer_Age.describe(),\"\\n\")\n",
    "        print(\"There are\",(bank_churners.Customer_Age < 30).value_counts()[1], \"clients with less than age of 30.\")\n",
    "        print(\"There are\",((bank_churners.Customer_Age > 30)&(bank_churners.Customer_Age < 40)).value_counts()[1], \"clients within (30 - 40) of age.\")\n",
    "        print(\"There are\",((bank_churners.Customer_Age > 40)&(bank_churners.Customer_Age < 50)).value_counts()[1], \"clients within (40 - 50) of age.\")\n",
    "        print(\"There are\",((bank_churners.Customer_Age > 50)&(bank_churners.Customer_Age < 60)).value_counts()[1], \"clients within (50 - 60) of age.\")\n",
    "        print(\"There are\",((bank_churners.Customer_Age > 60)&(bank_churners.Customer_Age < 70)).value_counts()[1], \"clients within (60 - 70) of age.\")\n",
    "        print(\"There are\",(bank_churners.Customer_Age > 70).value_counts()[1], \"clients with more than age of 70.\")\n",
    "        \n",
    "    def Gender():\n",
    "        print(\"There are total\",bank_churners['Gender'].nunique(),\"genders.\",\"\\n\")\n",
    "        print(bank_churners.Gender.value_counts(),\"\\n\")\n",
    "        \n",
    "    def Dependent_count():\n",
    "        print(\"There are total\",bank_churners['Dependent_count'].nunique(),\"dependent count of clients.\",\"\\n\")\n",
    "        print(bank_churners.Dependent_count.value_counts(sort=False),\"\\n\")\n",
    "        \n",
    "    def Education_Level():\n",
    "        print(\"There are total\",bank_churners['Education_Level'].nunique(),\"education level of clients.\",\"\\n\")\n",
    "        print(bank_churners.Education_Level.value_counts(),\"\\n\")\n",
    "    \n",
    "    def Marital_Status():\n",
    "        print(\"There are total\",bank_churners['Marital_Status'].nunique(),\"marital status of clients.\",\"\\n\")\n",
    "        print(bank_churners.Marital_Status.value_counts(),\"\\n\")\n",
    "        \n",
    "    def Income_Category():\n",
    "        print(\"There are total\",bank_churners['Income_Category'].nunique(),\"categories of income.\",\"\\n\")\n",
    "        print(bank_churners.Income_Category.value_counts(),\"\\n\")\n",
    "    \n",
    "    def Card_Category():\n",
    "        print(\"There are total\",bank_churners['Card_Category'].nunique(),\"types of card.\",\"\\n\")\n",
    "        print(bank_churners.Card_Category.value_counts(),\"\\n\")\n",
    "        \n",
    "    def Months_on_book():\n",
    "        print(bank_churners.Months_on_book.describe(),\"\\n\")\n",
    "        print(\"There are\",(bank_churners.Months_on_book < 20).value_counts()[1], \"clients with less than 20 months on book.\")\n",
    "        print(\"There are\",((bank_churners.Months_on_book > 20)&(bank_churners.Months_on_book < 40)).value_counts()[1], \"clients within (20 - 40) months on book.\")\n",
    "        print(\"There are\",(bank_churners.Months_on_book > 40).value_counts()[1], \"clients with more than 40 months on book.\")\n",
    "        \n",
    "    def Total_Relationship_Count():\n",
    "        print(\"There are total\",bank_churners['Total_Relationship_Count'].nunique(),\"relationship count of clients.\",\"\\n\")\n",
    "        print(bank_churners.Total_Relationship_Count.value_counts(sort=False),\"\\n\")\n",
    "    \n",
    "    def Months_Inactive_12_months():\n",
    "        print(\"There are total\",bank_churners['Months_Inactive_12_months'].nunique(),\"(inactive status for 12 months) of clients.\",\"\\n\")\n",
    "        print(bank_churners.Months_Inactive_12_months.value_counts(sort=False),\"\\n\")\n",
    "    \n",
    "    def Credit_Limit():\n",
    "        print(bank_churners.Credit_Limit.describe(),\"\\n\")\n",
    "        print(\"There are\",(bank_churners.Credit_Limit < 10000.00).value_counts()[1], \"clients with less than 10,000 credit limit.\")\n",
    "        print(\"There are\",((bank_churners.Credit_Limit > 10000.00) & (bank_churners.Credit_Limit < 20000.00)).value_counts()[1], \"clients within (10,000 - 20,000) credit limit.\")\n",
    "        print(\"There are\",((bank_churners.Credit_Limit > 20000.00) & (bank_churners.Credit_Limit < 30000.00)).value_counts()[1], \"clients within (20,000 - 30,000) credit limit.\")\n",
    "        print(\"There are\",(bank_churners.Credit_Limit > 30000.00).value_counts()[1], \"clients with more than 30,000 credit limit.\")    \n",
    "    \n",
    "    def Total_Revolving_Bal():\n",
    "        print(bank_churners.Total_Revolving_Bal.describe(),\"\\n\")\n",
    "        print(\"There are\",(bank_churners.Total_Revolving_Bal < 1000.00).value_counts()[1], \"clients with less than 1,000 total revolving balance.\")\n",
    "        print(\"There are\",((bank_churners.Total_Revolving_Bal > 1000.00)&(bank_churners.Total_Revolving_Bal < 1500.00)).value_counts()[1], \"clients within (1,000 - 1,500) total revolving balance.\")\n",
    "        print(\"There are\",((bank_churners.Total_Revolving_Bal > 1500.00)&(bank_churners.Total_Revolving_Bal < 2000.00)).value_counts()[1], \"clients within (1,500 - 2,000) total revolving balance.\")\n",
    "        print(\"There are\",(bank_churners.Total_Revolving_Bal > 2000.00).value_counts()[1], \"clients with more than 2,000 total revolving balance.\")\n",
    "        \n",
    "    def Total_Trans_Amt():\n",
    "        print(bank_churners.Total_Trans_Amt.describe(),\"\\n\")\n",
    "        print(\"There are\",(bank_churners.Total_Trans_Amt < 1000.00).value_counts()[1], \"clients with less than 1,000 total trans amount.\")\n",
    "        print(\"There are\",((bank_churners.Total_Trans_Amt > 1000.00)&(bank_churners.Total_Trans_Amt < 1500.00)).value_counts()[1], \"clients within (1,000 - 1,500) total trans amount.\")\n",
    "        print(\"There are\",((bank_churners.Total_Trans_Amt > 1500.00)&(bank_churners.Total_Trans_Amt < 2000.00)).value_counts()[1], \"clients within (1,500 - 2,000) total trans amount.\")\n",
    "        print(\"There are\",((bank_churners.Total_Trans_Amt > 2000.00)&(bank_churners.Total_Trans_Amt < 2500.00)).value_counts()[1], \"clients within (2,000 - 2,500) total trans amount.\")\n",
    "        print(\"There are\",((bank_churners.Total_Trans_Amt > 2500.00)&(bank_churners.Total_Trans_Amt < 3000.00)).value_counts()[1], \"clients within (2,500 - 3,000) total trans amount.\")\n",
    "        print(\"There are\",((bank_churners.Total_Trans_Amt > 3000.00)&(bank_churners.Total_Trans_Amt < 3500.00)).value_counts()[1], \"clients within (3,000 - 3,500) total trans amount.\")\n",
    "        print(\"There are\",((bank_churners.Total_Trans_Amt > 3500.00)&(bank_churners.Total_Trans_Amt < 4000.00)).value_counts()[1], \"clients within (3,500 - 4,000) total trans amount.\")\n",
    "        print(\"There are\",((bank_churners.Total_Trans_Amt > 4000.00)&(bank_churners.Total_Trans_Amt < 4500.00)).value_counts()[1], \"clients within (4,000 - 4,500) total trans amount.\")\n",
    "        print(\"There are\",(bank_churners.Total_Trans_Amt > 4500.00).value_counts()[1], \"clients with more than 4,500 total trans amount.\")\n",
    "        "
   ]
  },
  {
   "cell_type": "code",
   "execution_count": 9,
   "metadata": {},
   "outputs": [
    {
     "name": "stdout",
     "output_type": "stream",
     "text": [
      "count    2000.000000\n",
      "mean     1698.576000\n",
      "std       592.275515\n",
      "min       510.000000\n",
      "25%      1309.000000\n",
      "50%      1585.000000\n",
      "75%      1959.250000\n",
      "max      4686.000000\n",
      "Name: Total_Trans_Amt, dtype: float64 \n",
      "\n",
      "There are 144 clients with less than 1,000 total trans amount.\n",
      "There are 700 clients within (1,000 - 1,500) total trans amount.\n",
      "There are 685 clients within (1,500 - 2,000) total trans amount.\n",
      "There are 272 clients within (2,000 - 2,500) total trans amount.\n",
      "There are 127 clients within (2,500 - 3,000) total trans amount.\n",
      "There are 45 clients within (3,000 - 3,500) total trans amount.\n",
      "There are 17 clients within (3,500 - 4,000) total trans amount.\n",
      "There are 5 clients within (4,000 - 4,500) total trans amount.\n",
      "There are 3 clients with more than 4,500 total trans amount.\n"
     ]
    }
   ],
   "source": [
    "details_of_each_column.Total_Trans_Amt()"
   ]
  },
  {
   "cell_type": "markdown",
   "metadata": {},
   "source": [
    "### Creating Methods in Object (visualization) for the columns 'Income_Category' and ''Months_Inactive_12_months''"
   ]
  },
  {
   "cell_type": "code",
   "execution_count": 10,
   "metadata": {
    "scrolled": true
   },
   "outputs": [
    {
     "name": "stdout",
     "output_type": "stream",
     "text": [
      "There are total 6 categories of income. \n",
      "\n",
      "Less than $40K    546\n",
      "$80K - $120K      386\n",
      "$60K - $80K       362\n",
      "$40K - $60K       359\n",
      "Unknown           175\n",
      "$120K +           172\n",
      "Name: Income_Category, dtype: int64 \n",
      "\n",
      "['Less than $40K', '$80K - $120K', '$60K - $80K', '$40K - $60K', 'Unknown', '$120K +'] \n",
      "\n",
      "[546, 386, 362, 359, 175, 172] \n",
      "\n"
     ]
    }
   ],
   "source": [
    "print(\"There are total\",bank_churners['Income_Category'].nunique(),\"categories of income.\",\"\\n\")\n",
    "print(bank_churners.Income_Category.value_counts(),\"\\n\")\n",
    "print(bank_churners.Income_Category.value_counts().index.tolist(),\"\\n\") # taking out the index and making into list\n",
    "print(bank_churners.Income_Category.value_counts().tolist(),\"\\n\") #taking the value of index and making into list"
   ]
  },
  {
   "cell_type": "code",
   "execution_count": 11,
   "metadata": {},
   "outputs": [],
   "source": [
    "class visualization:\n",
    "    def show_pie_chart():\n",
    "        income_category_list = bank_churners['Income_Category'].value_counts().tolist()\n",
    "        label_income_category = bank_churners.Income_Category.value_counts().index.tolist()\n",
    "        exp = [0.2,0,0,0,0,0] # to take out a piece of pie\n",
    "        plt.pie(income_category_list, labels = label_income_category, explode = exp , autopct = '%2.1f%%')\n",
    "        plt.title(\"Income Category of Clients\") # labelling tittle\n",
    "        plt.rcParams['font.size'] = 12.0 #setting font size\n",
    "        plt.gcf().set_size_inches(6,6)  #setting figure size\n",
    "        plt.show()\n",
    "        \n",
    "    def show_bar_graph():\n",
    "        plt.style.use('dark_background') #changing the background to dark\n",
    "        plt.title(\"Clients Inactive For 12 Months\") #label the tittle\n",
    "        plt.xlabel('12 Months Inactive') #label x-axis\n",
    "        plt.ylabel('Number of Clients')  #label y-axis\n",
    "        bank_churners['Months_Inactive_12_months'].value_counts(sort= False).plot(kind='bar',edgecolor = 'yellow') #plotting bar graph"
   ]
  },
  {
   "cell_type": "code",
   "execution_count": 12,
   "metadata": {},
   "outputs": [
    {
     "data": {
      "image/png": "[encoded data removed]",
      "text/plain": [
       "<Figure size 432x432 with 1 Axes>"
      ]
     },
     "metadata": {},
     "output_type": "display_data"
    }
   ],
   "source": [
    "visualization.show_pie_chart()"
   ]
  },
  {
   "cell_type": "code",
   "execution_count": 13,
   "metadata": {},
   "outputs": [
    {
     "data": {
      "image/png": "[encoded data removed]",
      "text/plain": [
       "<Figure size 432x288 with 1 Axes>"
      ]
     },
     "metadata": {},
     "output_type": "display_data"
    }
   ],
   "source": [
    "visualization.show_bar_graph()"
   ]
  },
  {
   "cell_type": "markdown",
   "metadata": {},
   "source": [
    "### Creating Methods in Object (tracer) for the column 'CLIENT_NUM'"
   ]
  },
  {
   "cell_type": "code",
   "execution_count": 14,
   "metadata": {},
   "outputs": [],
   "source": [
    "class tracer:\n",
    "    def trace_client_background(): \n",
    "        while True: #using while loop to repeat\n",
    "            try: #using try except block to overcome ValueError if the user input other than integer\n",
    "                client_num = (int(input('Input a client number : ')))\n",
    "                \n",
    "                if client_num not in bank_churners.CLIENT_NUM.values: #using if statement if the number entered not in the column to print out\n",
    "                    print(\"No record found for the number : \",client_num,\"\\n\\n\")\n",
    "                                                                                \n",
    "                else:\n",
    "                    print(bank_churners[bank_churners['CLIENT_NUM'] == client_num],\"\\n\\n\")\n",
    "                        \n",
    "            except ValueError:\n",
    "                print(\"Please enter a valid client number...*OnlY IntEgerS*\\n\\n\")"
   ]
  },
  {
   "cell_type": "code",
   "execution_count": 15,
   "metadata": {},
   "outputs": [
    {
     "name": "stdout",
     "output_type": "stream",
     "text": [
      "Input a client number : dsfsdf\n",
      "Please enter a valid client number...*OnlY IntEgerS*\n",
      "\n",
      "\n",
      "Input a client number : ^&*(_\n",
      "Please enter a valid client number...*OnlY IntEgerS*\n",
      "\n",
      "\n",
      "Input a client number : 565676899\n",
      "No record found for the number :  565676899 \n",
      "\n",
      "\n",
      "Input a client number : 843537503\n",
      "      CLIENT_NUM     Attrition_Flag  Customer_Age Gender  Dependent_count  \\\n",
      "1999   843537503  Existing Customer            55      M                3   \n",
      "\n",
      "     Education_Level Marital_Status Income_Category Card_Category  \\\n",
      "1999        Graduate        Married    $80K - $120K          Blue   \n",
      "\n",
      "      Months_on_book  Total_Relationship_Count  Months_Inactive_12_months  \\\n",
      "1999              48                         5                          2   \n",
      "\n",
      "      Credit_Limit  Total_Revolving_Bal  Total_Trans_Amt  \n",
      "1999       16208.0                 1278             1842   \n",
      "\n",
      "\n"
     ]
    },
    {
     "ename": "KeyboardInterrupt",
     "evalue": "Interrupted by user",
     "output_type": "error",
     "traceback": [
      "\u001b[1;31m---------------------------------------------------------------------------\u001b[0m",
      "\u001b[1;31mKeyboardInterrupt\u001b[0m                         Traceback (most recent call last)",
      "\u001b[1;32m<ipython-input-15-2ebc9c1d7d01>\u001b[0m in \u001b[0;36m<module>\u001b[1;34m\u001b[0m\n\u001b[1;32m----> 1\u001b[1;33m \u001b[0mtracer\u001b[0m\u001b[1;33m.\u001b[0m\u001b[0mtrace_client_background\u001b[0m\u001b[1;33m(\u001b[0m\u001b[1;33m)\u001b[0m\u001b[1;33m\u001b[0m\u001b[1;33m\u001b[0m\u001b[0m\n\u001b[0m\u001b[0;32m      2\u001b[0m \u001b[1;31m# testing output with strings, integers\u001b[0m\u001b[1;33m\u001b[0m\u001b[1;33m\u001b[0m\u001b[1;33m\u001b[0m\u001b[0m\n\u001b[0;32m      3\u001b[0m \u001b[1;31m#565676899\u001b[0m\u001b[1;33m\u001b[0m\u001b[1;33m\u001b[0m\u001b[1;33m\u001b[0m\u001b[0m\n\u001b[0;32m      4\u001b[0m \u001b[1;31m#843537503\u001b[0m\u001b[1;33m\u001b[0m\u001b[1;33m\u001b[0m\u001b[1;33m\u001b[0m\u001b[0m\n\u001b[0;32m      5\u001b[0m \u001b[1;31m#abcd\u001b[0m\u001b[1;33m\u001b[0m\u001b[1;33m\u001b[0m\u001b[1;33m\u001b[0m\u001b[0m\n",
      "\u001b[1;32m<ipython-input-14-f5dad2a79a53>\u001b[0m in \u001b[0;36mtrace_client_background\u001b[1;34m()\u001b[0m\n\u001b[0;32m      3\u001b[0m         \u001b[1;32mwhile\u001b[0m \u001b[1;32mTrue\u001b[0m\u001b[1;33m:\u001b[0m \u001b[1;31m#using while loop to repeat\u001b[0m\u001b[1;33m\u001b[0m\u001b[1;33m\u001b[0m\u001b[0m\n\u001b[0;32m      4\u001b[0m             \u001b[1;32mtry\u001b[0m\u001b[1;33m:\u001b[0m \u001b[1;31m#using try except block to overcome ValueError if the user input other than integer\u001b[0m\u001b[1;33m\u001b[0m\u001b[1;33m\u001b[0m\u001b[0m\n\u001b[1;32m----> 5\u001b[1;33m                 \u001b[0mclient_num\u001b[0m \u001b[1;33m=\u001b[0m \u001b[1;33m(\u001b[0m\u001b[0mint\u001b[0m\u001b[1;33m(\u001b[0m\u001b[0minput\u001b[0m\u001b[1;33m(\u001b[0m\u001b[1;34m'Input a client number : '\u001b[0m\u001b[1;33m)\u001b[0m\u001b[1;33m)\u001b[0m\u001b[1;33m)\u001b[0m\u001b[1;33m\u001b[0m\u001b[1;33m\u001b[0m\u001b[0m\n\u001b[0m\u001b[0;32m      6\u001b[0m \u001b[1;33m\u001b[0m\u001b[0m\n\u001b[0;32m      7\u001b[0m                 \u001b[1;32mif\u001b[0m \u001b[0mclient_num\u001b[0m \u001b[1;32mnot\u001b[0m \u001b[1;32min\u001b[0m \u001b[0mbank_churners\u001b[0m\u001b[1;33m.\u001b[0m\u001b[0mCLIENT_NUM\u001b[0m\u001b[1;33m.\u001b[0m\u001b[0mvalues\u001b[0m\u001b[1;33m:\u001b[0m \u001b[1;31m#using if statement if the number entered not in the column to print out\u001b[0m\u001b[1;33m\u001b[0m\u001b[1;33m\u001b[0m\u001b[0m\n",
      "\u001b[1;32m~\\anaconda3\\lib\\site-packages\\ipykernel\\kernelbase.py\u001b[0m in \u001b[0;36mraw_input\u001b[1;34m(self, prompt)\u001b[0m\n\u001b[0;32m    858\u001b[0m                 \u001b[1;34m\"raw_input was called, but this frontend does not support input requests.\"\u001b[0m\u001b[1;33m\u001b[0m\u001b[1;33m\u001b[0m\u001b[0m\n\u001b[0;32m    859\u001b[0m             )\n\u001b[1;32m--> 860\u001b[1;33m         return self._input_request(str(prompt),\n\u001b[0m\u001b[0;32m    861\u001b[0m             \u001b[0mself\u001b[0m\u001b[1;33m.\u001b[0m\u001b[0m_parent_ident\u001b[0m\u001b[1;33m,\u001b[0m\u001b[1;33m\u001b[0m\u001b[1;33m\u001b[0m\u001b[0m\n\u001b[0;32m    862\u001b[0m             \u001b[0mself\u001b[0m\u001b[1;33m.\u001b[0m\u001b[0m_parent_header\u001b[0m\u001b[1;33m,\u001b[0m\u001b[1;33m\u001b[0m\u001b[1;33m\u001b[0m\u001b[0m\n",
      "\u001b[1;32m~\\anaconda3\\lib\\site-packages\\ipykernel\\kernelbase.py\u001b[0m in \u001b[0;36m_input_request\u001b[1;34m(self, prompt, ident, parent, password)\u001b[0m\n\u001b[0;32m    902\u001b[0m             \u001b[1;32mexcept\u001b[0m \u001b[0mKeyboardInterrupt\u001b[0m\u001b[1;33m:\u001b[0m\u001b[1;33m\u001b[0m\u001b[1;33m\u001b[0m\u001b[0m\n\u001b[0;32m    903\u001b[0m                 \u001b[1;31m# re-raise KeyboardInterrupt, to truncate traceback\u001b[0m\u001b[1;33m\u001b[0m\u001b[1;33m\u001b[0m\u001b[1;33m\u001b[0m\u001b[0m\n\u001b[1;32m--> 904\u001b[1;33m                 \u001b[1;32mraise\u001b[0m \u001b[0mKeyboardInterrupt\u001b[0m\u001b[1;33m(\u001b[0m\u001b[1;34m\"Interrupted by user\"\u001b[0m\u001b[1;33m)\u001b[0m \u001b[1;32mfrom\u001b[0m \u001b[1;32mNone\u001b[0m\u001b[1;33m\u001b[0m\u001b[1;33m\u001b[0m\u001b[0m\n\u001b[0m\u001b[0;32m    905\u001b[0m             \u001b[1;32mexcept\u001b[0m \u001b[0mException\u001b[0m \u001b[1;32mas\u001b[0m \u001b[0me\u001b[0m\u001b[1;33m:\u001b[0m\u001b[1;33m\u001b[0m\u001b[1;33m\u001b[0m\u001b[0m\n\u001b[0;32m    906\u001b[0m                 \u001b[0mself\u001b[0m\u001b[1;33m.\u001b[0m\u001b[0mlog\u001b[0m\u001b[1;33m.\u001b[0m\u001b[0mwarning\u001b[0m\u001b[1;33m(\u001b[0m\u001b[1;34m\"Invalid Message:\"\u001b[0m\u001b[1;33m,\u001b[0m \u001b[0mexc_info\u001b[0m\u001b[1;33m=\u001b[0m\u001b[1;32mTrue\u001b[0m\u001b[1;33m)\u001b[0m\u001b[1;33m\u001b[0m\u001b[1;33m\u001b[0m\u001b[0m\n",
      "\u001b[1;31mKeyboardInterrupt\u001b[0m: Interrupted by user"
     ]
    }
   ],
   "source": [
    "tracer.trace_client_background()\n",
    "# testing output with strings, integers\n",
    "#565676899\n",
    "#843537503\n",
    "#abcd\n",
    "#)_(+)"
   ]
  }
 ],
 "metadata": {
  "kernelspec": {
   "display_name": "Python 3",
   "language": "python",
   "name": "python3"
  },
  "language_info": {
   "codemirror_mode": {
    "name": "ipython",
    "version": 3
   },
   "file_extension": ".py",
   "mimetype": "text/x-python",
   "name": "python",
   "nbconvert_exporter": "python",
   "pygments_lexer": "ipython3",
   "version": "3.8.5"
  }
 },
 "nbformat": 4,
 "nbformat_minor": 4
}
